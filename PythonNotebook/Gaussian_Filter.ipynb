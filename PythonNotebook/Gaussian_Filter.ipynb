{
  "nbformat": 4,
  "nbformat_minor": 0,
  "metadata": {
    "colab": {
      "provenance": []
    },
    "kernelspec": {
      "name": "python3",
      "display_name": "Python 3"
    }
  },
  "cells": [
    {
      "cell_type": "code",
      "metadata": {
        "colab": {
          "base_uri": "https://localhost:8080/"
        },
        "id": "QXOgy8pAJBoT",
        "outputId": "a6e13029-398a-493e-fa90-c4a3faeb92b2"
      },
      "source": [
        "from google.colab import drive\n",
        "drive.mount('/content/gdrive')"
      ],
      "execution_count": null,
      "outputs": [
        {
          "output_type": "stream",
          "text": [
            "Mounted at /content/gdrive\n"
          ],
          "name": "stdout"
        }
      ]
    },
    {
      "cell_type": "code",
      "metadata": {
        "id": "IBExSJ6BJLLg"
      },
      "source": [
        "import os\n",
        "os.environ['dir'] = \"/content/gdrive/My Drive/AptosData/aptos2019-blindness-detection\""
      ],
      "execution_count": null,
      "outputs": []
    },
    {
      "cell_type": "code",
      "metadata": {
        "colab": {
          "base_uri": "https://localhost:8080/"
        },
        "id": "IZkUvSf9JUv2",
        "outputId": "0034381a-fcde-47a2-c85f-3445ccb51a6d"
      },
      "source": [
        "%cd /content/gdrive/My Drive/AptosData/aptos2019-blindness-detection"
      ],
      "execution_count": null,
      "outputs": [
        {
          "output_type": "stream",
          "text": [
            "/content/gdrive/My Drive/AptosData/aptos2019-blindness-detection\n"
          ],
          "name": "stdout"
        }
      ]
    },
    {
      "cell_type": "code",
      "metadata": {
        "id": "Ya5KGIHGJWgR"
      },
      "source": [
        "#Import libraries needed\n",
        "import pandas as pd\n",
        "import cv2\n",
        "import os\n",
        "\n",
        "from tqdm.notebook import tqdm"
      ],
      "execution_count": null,
      "outputs": []
    },
    {
      "cell_type": "code",
      "metadata": {
        "id": "fTZ-QlHbJaL8"
      },
      "source": [
        "#Import csv file\n",
        "file = pd.read_csv('train.csv')"
      ],
      "execution_count": null,
      "outputs": []
    },
    {
      "cell_type": "code",
      "metadata": {
        "colab": {
          "base_uri": "https://localhost:8080/",
          "height": 204
        },
        "id": "zr-x55pLJeFw",
        "outputId": "2d88c85e-f5a6-4c02-e59d-fb8cb12d6e97"
      },
      "source": [
        "#Print csv file head\n",
        "file.head()"
      ],
      "execution_count": null,
      "outputs": [
        {
          "output_type": "execute_result",
          "data": {
            "text/html": [
              "<div>\n",
              "<style scoped>\n",
              "    .dataframe tbody tr th:only-of-type {\n",
              "        vertical-align: middle;\n",
              "    }\n",
              "\n",
              "    .dataframe tbody tr th {\n",
              "        vertical-align: top;\n",
              "    }\n",
              "\n",
              "    .dataframe thead th {\n",
              "        text-align: right;\n",
              "    }\n",
              "</style>\n",
              "<table border=\"1\" class=\"dataframe\">\n",
              "  <thead>\n",
              "    <tr style=\"text-align: right;\">\n",
              "      <th></th>\n",
              "      <th>id_code</th>\n",
              "      <th>diagnosis</th>\n",
              "    </tr>\n",
              "  </thead>\n",
              "  <tbody>\n",
              "    <tr>\n",
              "      <th>0</th>\n",
              "      <td>000c1434d8d7</td>\n",
              "      <td>2</td>\n",
              "    </tr>\n",
              "    <tr>\n",
              "      <th>1</th>\n",
              "      <td>001639a390f0</td>\n",
              "      <td>4</td>\n",
              "    </tr>\n",
              "    <tr>\n",
              "      <th>2</th>\n",
              "      <td>0024cdab0c1e</td>\n",
              "      <td>1</td>\n",
              "    </tr>\n",
              "    <tr>\n",
              "      <th>3</th>\n",
              "      <td>002c21358ce6</td>\n",
              "      <td>0</td>\n",
              "    </tr>\n",
              "    <tr>\n",
              "      <th>4</th>\n",
              "      <td>005b95c28852</td>\n",
              "      <td>0</td>\n",
              "    </tr>\n",
              "  </tbody>\n",
              "</table>\n",
              "</div>"
            ],
            "text/plain": [
              "        id_code  diagnosis\n",
              "0  000c1434d8d7          2\n",
              "1  001639a390f0          4\n",
              "2  0024cdab0c1e          1\n",
              "3  002c21358ce6          0\n",
              "4  005b95c28852          0"
            ]
          },
          "metadata": {
            "tags": []
          },
          "execution_count": 6
        }
      ]
    },
    {
      "cell_type": "code",
      "metadata": {
        "colab": {
          "base_uri": "https://localhost:8080/"
        },
        "id": "I4bfPdqTJnEp",
        "outputId": "591dd6ce-ca1c-49ce-f8a5-d489001cd682"
      },
      "source": [
        "train_y = file['diagnosis']\n",
        "\n",
        "# get the number of images per category\n",
        "num_img_by_cat = (train_y.value_counts())\n",
        "print(num_img_by_cat, type(num_img_by_cat))"
      ],
      "execution_count": null,
      "outputs": [
        {
          "output_type": "stream",
          "text": [
            "0    1805\n",
            "2     999\n",
            "1     370\n",
            "4     295\n",
            "3     193\n",
            "Name: diagnosis, dtype: int64 <class 'pandas.core.series.Series'>\n"
          ],
          "name": "stdout"
        }
      ]
    },
    {
      "cell_type": "code",
      "metadata": {
        "id": "ceW4A_4BKZNb"
      },
      "source": [
        "#Path to filtered_images folder\n",
        "no_dr = 'No_DR/'\n",
        "mild = 'Mild/'\n",
        "moderate = 'Moderate/'\n",
        "severe = 'Severe/'\n",
        "proliferate_dr = 'Proliferate_DR/'"
      ],
      "execution_count": null,
      "outputs": []
    },
    {
      "cell_type": "code",
      "metadata": {
        "id": "YZcymQNoKd9P"
      },
      "source": [
        "sigmaX = 10"
      ],
      "execution_count": null,
      "outputs": []
    },
    {
      "cell_type": "code",
      "metadata": {
        "id": "XAX0s-IvKf7N"
      },
      "source": [
        "for class_id in tqdm(sorted(train_y.unique())):\n",
        "    if class_id == 0:\n",
        "        for i, (idx, row) in tqdm(enumerate(file.loc[file['diagnosis'] == class_id].sample(num_img_by_cat[0],).iterrows())):\n",
        "            read_path = f\"/content/gdrive/My Drive/AptosData/aptos2019-blindness-detection/train_images/{row['id_code']}.png\"\n",
        "            write_path = '/content/gdrive/My Drive/AptosData/aptos2019-blindness-detection/filtered_images/'+no_dr+row['id_code']+'.png'\n",
        "            image = cv2.imread(read_path)\n",
        "            gaussian = cv2.addWeighted(image, 4, cv2.GaussianBlur(image, (0,0), sigmaX), -4, 128)\n",
        "            gaussian = cv2.resize(gaussian, (224, 224))\n",
        "            if not cv2.imwrite(write_path, gaussian):\n",
        "              raise Exception(\"Could not write image\")\n",
        "\n",
        "    if class_id == 1:\n",
        "        for i, (idx, row) in tqdm(enumerate(file.loc[file['diagnosis'] == class_id].sample(num_img_by_cat[1],).iterrows())):\n",
        "            read_path = f\"/content/gdrive/My Drive/AptosData/aptos2019-blindness-detection/train_images/{row['id_code']}.png\"\n",
        "            write_path = '/content/gdrive/My Drive/AptosData/aptos2019-blindness-detection/filtered_images/'+mild+row['id_code']+'.png'\n",
        "            image = cv2.imread(read_path)\n",
        "            gaussian = cv2.addWeighted(image, 4, cv2.GaussianBlur(image, (0,0), sigmaX), -4, 128)\n",
        "            gaussian = cv2.resize(gaussian, (224, 224))\n",
        "            if not cv2.imwrite(write_path, gaussian):\n",
        "              raise Exception(\"Could not write image\")\n",
        "\n",
        "    if class_id == 2:\n",
        "        for i, (idx, row) in tqdm(enumerate(file.loc[file['diagnosis'] == class_id].sample(num_img_by_cat[2],).iterrows())):\n",
        "            read_path = f\"/content/gdrive/My Drive/AptosData/aptos2019-blindness-detection/train_images/{row['id_code']}.png\"\n",
        "            write_path = '/content/gdrive/My Drive/AptosData/aptos2019-blindness-detection/filtered_images/'+moderate+row['id_code']+'.png'\n",
        "            image = cv2.imread(read_path)\n",
        "            gaussian = cv2.addWeighted(image, 4, cv2.GaussianBlur(image, (0,0), sigmaX), -4, 128)\n",
        "            gaussian = cv2.resize(gaussian, (224, 224))\n",
        "            if not cv2.imwrite(write_path, gaussian):\n",
        "              raise Exception(\"Could not write image\")\n",
        "\n",
        "    if class_id == 3:\n",
        "        for i, (idx, row) in tqdm(enumerate(file.loc[file['diagnosis'] == class_id].sample(num_img_by_cat[3],).iterrows())):\n",
        "            read_path = f\"/content/gdrive/My Drive/AptosData/aptos2019-blindness-detection/train_images/{row['id_code']}.png\"\n",
        "            write_path = '/content/gdrive/My Drive/AptosData/aptos2019-blindness-detection/filtered_images/'+severe+row['id_code']+'.png'\n",
        "            image = cv2.imread(read_path)\n",
        "            gaussian = cv2.addWeighted(image, 4, cv2.GaussianBlur(image, (0,0), sigmaX), -4, 128)\n",
        "            gaussian = cv2.resize(gaussian, (224, 224))\n",
        "            if not cv2.imwrite(write_path, gaussian):\n",
        "              raise Exception(\"Could not write image\")\n",
        "\n",
        "    if class_id == 4:\n",
        "        for i, (idx, row) in tqdm(enumerate(file.loc[file['diagnosis'] == class_id].sample(num_img_by_cat[4],).iterrows())):\n",
        "            read_path = f\"/content/gdrive/My Drive/AptosData/aptos2019-blindness-detection/train_images/{row['id_code']}.png\"\n",
        "            write_path = '/content/gdrive/My Drive/AptosData/aptos2019-blindness-detection/filtered_images/'+proliferate_dr+row['id_code']+'.png'\n",
        "            image = cv2.imread(read_path)\n",
        "            gaussian = cv2.addWeighted(image, 4, cv2.GaussianBlur(image, (0,0), sigmaX), -4, 128)\n",
        "            gaussian = cv2.resize(gaussian, (224, 224))\n",
        "            if not cv2.imwrite(write_path, gaussian):\n",
        "              raise Exception(\"Could not write image\")"
      ],
      "execution_count": null,
      "outputs": []
    },
    {
      "cell_type": "code",
      "metadata": {
        "id": "fkZu7DXhKin8"
      },
      "source": [],
      "execution_count": null,
      "outputs": []
    }
  ]
}